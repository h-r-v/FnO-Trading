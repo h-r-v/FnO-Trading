{
 "cells": [
  {
   "cell_type": "code",
   "execution_count": null,
   "metadata": {},
   "outputs": [],
   "source": [
    "sandbox = True\n",
    "get_access_only = False\n",
    "access_code = \"8914\"\n",
    "\n",
    "if sandbox==False:\n",
    "    userid = \"NT1945\"\n",
    "    password='BT121299@'\n",
    "    access_token = \"3bf7af61-77c2-3f2e-b1c1-f4f5cb909db3\"\n",
    "    consumer_key = \"ay4bObamN3KHOPzZjmpA7g9YDJwa\"\n",
    "    host = 'https://tradeapi.kotaksecurities.com/apim'\n",
    "else:\n",
    "    userid = \"1T068\"\n",
    "    password='login@1'\n",
    "    access_token = \"ebe9c833-26c1-3402-bf80-c457e76a4da3\"\n",
    "    consumer_key = \"a0s3dcOM4JgVNn3pB7fdLBFkJ4Ea\"\n",
    "    host = 'https://sbx.kotaksecurities.com/apim'"
   ]
  },
  {
   "cell_type": "code",
   "execution_count": null,
   "metadata": {},
   "outputs": [],
   "source": [
    "#GENERATING OTP\n",
    "from ks_api_client.ks_api import KSTradeApi\n",
    "client = KSTradeApi(access_token = access_token, userid = userid, \\\n",
    "                consumer_key = consumer_key, ip = \"127.0.0.1\", app_id = \"DefaultApplication\", host = host)\n",
    "client.login(password=password)"
   ]
  },
  {
   "cell_type": "code",
   "execution_count": null,
   "metadata": {},
   "outputs": [],
   "source": [
    "#OTP verification\n",
    "\n",
    "if get_access_only==True:\n",
    "    exit()\n",
    "\n",
    "if sandbox==True:\n",
    "    client.session_2fa(access_code = '1111')\n",
    "else:\n",
    "    client.session_2fa(access_code = access_code)"
   ]
  },
  {
   "cell_type": "code",
   "execution_count": null,
   "metadata": {},
   "outputs": [],
   "source": [
    "#Get token list\n",
    "\n",
    "from datetime import datetime\n",
    "import requests\n",
    "fno_url = 'https://preferred.kotaksecurities.com/security/production/TradeApiInstruments_FNO_'+datetime.now().strftime(\"%d_%m_%Y\")+'.txt'\n",
    "cash_url = 'https://preferred.kotaksecurities.com/security/production/TradeApiInstruments_CASH_'+datetime.now().strftime(\"%d_%m_%Y\")+'.txt'\n",
    "\n",
    "#fno_url = 'https://preferred.kotaksecurities.com/security/production/TradeApiInstruments_FNO_10_12_2021.txt'\n",
    "#cash_url = 'https://preferred.kotaksecurities.com/security/production/TradeApiInstruments_CASH_10_12_2021.txt'\n",
    "\n",
    "fno_tokens = requests.get(fno_url).text\n",
    "cash_tokens = requests.get(cash_url).text\n",
    "\n",
    "fno_tokens = fno_tokens.split('\\n')\n",
    "fno_tokens = [i.strip().split('|') for i in fno_tokens]\n",
    "\n",
    "cash_tokens = cash_tokens.split('\\n')\n",
    "cash_tokens = [i.strip().split('|') for i in cash_tokens]\n",
    "\n",
    "print(len(fno_tokens))\n",
    "print(len(cash_tokens))"
   ]
  },
  {
   "cell_type": "code",
   "execution_count": null,
   "metadata": {},
   "outputs": [],
   "source": [
    "if len(fno_tokens) <= 1 or len(cash_tokens) <= 1:\n",
    "    assert True==False, \"Token list not valid\""
   ]
  },
  {
   "cell_type": "code",
   "execution_count": null,
   "metadata": {},
   "outputs": [],
   "source": [
    "import pandas as pd\n",
    "\n",
    "fno_df = pd.DataFrame( fno_tokens[1:], columns=fno_tokens[0])\n",
    "cash_df = pd.DataFrame( cash_tokens[1:], columns=cash_tokens[0])"
   ]
  },
  {
   "cell_type": "code",
   "execution_count": null,
   "metadata": {},
   "outputs": [],
   "source": [
    "fno_df.head()"
   ]
  },
  {
   "cell_type": "code",
   "execution_count": null,
   "metadata": {},
   "outputs": [],
   "source": [
    "cash_df.head()"
   ]
  },
  {
   "cell_type": "code",
   "execution_count": null,
   "metadata": {},
   "outputs": [],
   "source": [
    "#Get cash tokens\n",
    "\n",
    "banknifty_token = int(cash_df[cash_df.instrumentName=='NIFTY BANK'].instrumentToken.values[0])\n",
    "print(\"BANK NIFTY TOKEN:\",banknifty_token)"
   ]
  },
  {
   "cell_type": "code",
   "execution_count": null,
   "metadata": {},
   "outputs": [],
   "source": [
    "fno_url"
   ]
  },
  {
   "cell_type": "code",
   "execution_count": null,
   "metadata": {},
   "outputs": [],
   "source": [
    "# get ltp and atm\n",
    "\n",
    "def get_atm():\n",
    "    banknity_ltp = client.quote(instrument_token = banknifty_token, quote_type = \"LTP\")\n",
    "    if 'success' in banknity_ltp:\n",
    "        banknity_ltp = banknity_ltp['success'][0]['lastPrice']\n",
    "    else:\n",
    "        assert True==False\n",
    "\n",
    "    banknity_ltp = float(banknity_ltp)\n",
    "    banknity_atm = round(banknity_ltp, -2)\n",
    "\n",
    "    print('BANK NIFTY ATM:', banknity_atm)\n",
    "    return int(banknity_atm)\n",
    "\n",
    "banknity_atm = get_atm()"
   ]
  },
  {
   "cell_type": "code",
   "execution_count": null,
   "metadata": {},
   "outputs": [],
   "source": [
    "client.quote(instrument_token = 21272, quote_type='LTP')"
   ]
  },
  {
   "cell_type": "code",
   "execution_count": null,
   "metadata": {},
   "outputs": [],
   "source": [
    "# get pe ce tokens for a strike\n",
    "def get_pe_ce_token(banknity_atm, fno_df):\n",
    "    fno_df = fno_df[ (fno_df.instrumentName == 'BANKNIFTY') & (fno_df.strike==str(int(banknity_atm)))][0:2]\n",
    "    banknity_token_pe = int(fno_df[fno_df.optionType=='PE']['instrumentToken'].values[0])\n",
    "    banknity_token_ce = int(fno_df[fno_df.optionType=='CE']['instrumentToken'].values[0])\n",
    "\n",
    "    print(f\"BANK NIFTY {banknity_atm} PE TOKEN:\",banknity_token_pe)\n",
    "    print(f\"BANK NIFTY {banknity_atm} CE TOKEN:\",banknity_token_ce)\n",
    "    return banknity_token_pe,banknity_token_ce\n",
    "\n",
    "banknity_token_pe, banknity_token_ce = get_pe_ce_token(banknity_atm, fno_df)\n",
    "banknity_token_pe, banknity_token_ce"
   ]
  },
  {
   "cell_type": "code",
   "execution_count": null,
   "metadata": {},
   "outputs": [],
   "source": [
    "def get_quote(instrument_token):\n",
    "    ltp = client.quote(instrument_token = instrument_token, quote_type = \"LTP\")\n",
    "    if 'success' in ltp:\n",
    "        ltp = ltp['success'][0]['lastPrice']\n",
    "    else:\n",
    "        assert True==False\n",
    "\n",
    "    return ltp\n",
    "\n",
    "print(f'banknity_ce {banknity_atm} LTP', get_quote(banknity_token_ce))\n",
    "print(f'banknity_pe {banknity_atm} LTP', get_quote(banknity_token_pe))"
   ]
  },
  {
   "cell_type": "code",
   "execution_count": null,
   "metadata": {},
   "outputs": [],
   "source": [
    "from datetime import datetime\n",
    "\n",
    "old_second = 70\n",
    "\n",
    "while True:\n",
    "    \n",
    "    hour, minute, second = [int(i) for i in datetime.now().strftime(\"%H.%M.%S\").split('.')]\n",
    "    \n",
    "    if(old_second!=second):\n",
    "        print(hour,minute,second)\n",
    "\n",
    "        #update time\n",
    "        old_second=second\n",
    "        \n",
    "        #Before 9:30am\n",
    "        if(hour==9 and minute==29 and int(second)==58):\n",
    "            #get banknifty atm\n",
    "            banknity_atm = get_atm()\n",
    "            \n",
    "            #get pe and ce token at that atm\n",
    "            banknity_token_pe, banknity_token_ce = get_pe_ce_token(banknity_atm, fno_df)\n",
    "\n",
    "            #initialize hit flags\n",
    "            banknifty_ce_hit = False\n",
    "            banknifty_pe_hit = False\n",
    "            banknifty_ce_wrong = False\n",
    "            banknifty_pe_wrong = False\n",
    "\n",
    "        #At 9:30am\n",
    "        if(hour==9 and minute==30 and int(second)==0):\n",
    "            #get ce and pe quote\n",
    "            banknifty_ce_ltp_930 = get_quote(banknity_token_ce)\n",
    "            banknifty_pe_ltp_930 = get_quote(banknity_token_pe)\n",
    "\n",
    "            banknifty_ce_ex = 0.9*banknifty_ce_ltp_930\n",
    "            banknifty_pe_ex = 0.9*banknifty_pe_ltp_930\n",
    "        \n",
    "        #After 9:30am\n",
    "        if(hour>=9 and minute>=30):\n",
    "            banknifty_ce_ltp = get_quote(banknity_token_ce)\n",
    "            banknifty_pe_ltp = get_quote(banknity_token_pe)\n",
    "\n",
    "            if (banknifty_ce_ltp<=banknifty_ce_ex and banknifty_ce_hit==False):\n",
    "                #sell ce\n",
    "                banknifty_ce_hit = True\n",
    "                pass\n",
    "\n",
    "            if (banknifty_ce_hit==True and banknifty_ce_ltp>=1.25*banknifty_ce_ex):\n",
    "                #buy ce\n",
    "                banknifty_ce_wrong = True\n",
    "                pass\n",
    "\n",
    "            if (banknifty_pe_ltp<=banknifty_pe_ex and banknifty_pe_hit==False):\n",
    "                #sell pe\n",
    "                banknifty_pe_hit = True\n",
    "                pass\n",
    "\n",
    "            if (banknifty_pe_hit==True and banknifty_pe_ltp>=1.25*banknifty_pe_ex):\n",
    "                #buy pe\n",
    "                banknifty_pe_wrong = True\n",
    "                pass\n",
    "\n",
    "            #At 3pm\n",
    "            if(hour==15 and minute==0 and int(second)==0):\n",
    "                if( banknifty_ce_hit==True and banknifty_ce_wrong==False ):\n",
    "                    #buy ce\n",
    "                    pass\n",
    "\n",
    "                if( banknifty_pe_hit==True and banknifty_pe_wrong==False ):\n",
    "                    #buy pe\n",
    "                    pass            \n",
    "\n",
    "        \n",
    "\n",
    "        "
   ]
  },
  {
   "cell_type": "code",
   "execution_count": null,
   "metadata": {},
   "outputs": [],
   "source": [
    "from datetime import datetime\n",
    "datetime.now().strftime(\"%H:%M:%S\")"
   ]
  },
  {
   "cell_type": "code",
   "execution_count": 2,
   "metadata": {},
   "outputs": [],
   "source": [
    "from helper import log_info\n",
    "with open('harsh.txt', 'a') as f:\n",
    "    log_info(f,'SELL BLAH BLAH', 'SELL')"
   ]
  }
 ],
 "metadata": {
  "interpreter": {
   "hash": "8af9969293388141fbc90e4df99b0653e2a6bf5ede45ef9e2dd6947e87cc3fc7"
  },
  "kernelspec": {
   "display_name": "Python 3.8.10 64-bit ('v_t': venv)",
   "language": "python",
   "name": "python3"
  },
  "language_info": {
   "codemirror_mode": {
    "name": "ipython",
    "version": 3
   },
   "file_extension": ".py",
   "mimetype": "text/x-python",
   "name": "python",
   "nbconvert_exporter": "python",
   "pygments_lexer": "ipython3",
   "version": "3.8.10"
  },
  "orig_nbformat": 4
 },
 "nbformat": 4,
 "nbformat_minor": 2
}
